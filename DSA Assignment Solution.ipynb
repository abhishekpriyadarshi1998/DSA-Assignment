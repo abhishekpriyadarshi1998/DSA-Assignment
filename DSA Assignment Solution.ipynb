{
 "cells": [
  {
   "cell_type": "code",
   "execution_count": 2,
   "id": "e00044c4",
   "metadata": {},
   "outputs": [
    {
     "name": "stdout",
     "output_type": "stream",
     "text": [
      "Object `number` not found.\n",
      "[(2, 5), (4, 3), (3, 4), (-2, 9)]\n"
     ]
    }
   ],
   "source": [
    "Q1. Write a program to find all pairs of an integer array whose sum is equal to a given number?\n",
    "\n",
    "\n",
    "def findPairs(arr, sum):\n",
    "\n",
    "  pairs = []\n",
    "\n",
    "  for i in range(0, len(arr)):\n",
    "    for j in range(i+1, len(arr)):\n",
    "      if arr[i] + arr[j] == sum:\n",
    "        pairs.append((arr[i], arr[j]))\n",
    "  \n",
    "  return pairs\n",
    "\n",
    "arr = [2, 4, 3, 5, 6, -2, 4, 7, 8, 9]\n",
    "sum = 7\n",
    "\n",
    "print(findPairs(arr, sum))"
   ]
  },
  {
   "cell_type": "code",
   "execution_count": 4,
   "id": "9d7b022e",
   "metadata": {},
   "outputs": [
    {
     "name": "stdout",
     "output_type": "stream",
     "text": [
      "Object `array` not found.\n",
      "[5, 4, 3, 2, 1]\n"
     ]
    }
   ],
   "source": [
    "Q2. Write a program to reverse an array in place? In place means you cannot create a new array. You have to update the original array?\n",
    "\n",
    "def reverse_arr(arr): \n",
    "  n = len(arr) \n",
    "  for i in range(n // 2): \n",
    "    arr[i], arr[n - i - 1] = arr[n - i - 1], arr[i] \n",
    "\n",
    "arr = [1, 2, 3, 4, 5] \n",
    "reverse_arr(arr) \n",
    "print(arr)"
   ]
  },
  {
   "cell_type": "code",
   "execution_count": 5,
   "id": "363018a8",
   "metadata": {},
   "outputs": [
    {
     "name": "stdout",
     "output_type": "stream",
     "text": [
      "Object `other` not found.\n",
      "Enter the first string: mnhg\n",
      "Enter the second string: mhfdee\n",
      "False\n"
     ]
    }
   ],
   "source": [
    "Q3. Write a program to check if two strings are a rotation of each other?\n",
    "\n",
    "\n",
    "def is_rotation(str1, str2):\n",
    "    if len(str1) != len(str2):\n",
    "        return False\n",
    "    str1str1 = str1 + str1\n",
    "    if str2 in str1str1:\n",
    "        return True\n",
    "    else:\n",
    "        return False\n",
    "\n",
    "str1 = input(\"Enter the first string: \")\n",
    "str2 = input(\"Enter the second string: \")\n",
    "\n",
    "print(is_rotation(str1, str2))"
   ]
  },
  {
   "cell_type": "code",
   "execution_count": 6,
   "id": "56cd42af",
   "metadata": {},
   "outputs": [
    {
     "name": "stdout",
     "output_type": "stream",
     "text": [
      "Object `string` not found.\n",
      "Enter a string: k\n",
      "The first non-repeating character is k\n"
     ]
    }
   ],
   "source": [
    "Q4. Write a program to print the first non-repeated character from a string?\n",
    "\n",
    "s = input('Enter a string: ')\n",
    "d = {}\n",
    "for c in s:\n",
    "   \n",
    "    if c in d:\n",
    "        \n",
    "        d[c] += 1\n",
    "    else:\n",
    "        \n",
    "        d[c] = 1\n",
    "\n",
    "\n",
    "for c in s:\n",
    "    \n",
    "    if d[c] == 1:\n",
    "        \n",
    "        print('The first non-repeating character is', c)\n",
    "        break"
   ]
  },
  {
   "cell_type": "code",
   "execution_count": 8,
   "id": "66e9b442",
   "metadata": {},
   "outputs": [
    {
     "name": "stdout",
     "output_type": "stream",
     "text": [
      "Object `it` not found.\n",
      "Move disk 1 from source A to destination B\n",
      "Move disk 2 from source A to destination C\n",
      "Move disk 1 from source B to destination C\n",
      "Move disk 3 from source A to destination B\n",
      "Move disk 1 from source C to destination A\n",
      "Move disk 2 from source C to destination B\n",
      "Move disk 1 from source A to destination B\n",
      "Move disk 4 from source A to destination C\n",
      "Move disk 1 from source B to destination C\n",
      "Move disk 2 from source B to destination A\n",
      "Move disk 1 from source C to destination A\n",
      "Move disk 3 from source B to destination C\n",
      "Move disk 1 from source A to destination B\n",
      "Move disk 2 from source A to destination C\n",
      "Move disk 1 from source B to destination C\n"
     ]
    }
   ],
   "source": [
    "Q5. Read about the Tower of Hanoi algorithm. Write a program to implement it\n",
    "\n",
    "def tower_of_hanoi(num_disks, source, auxiliary, destination):\n",
    "    if num_disks == 1:\n",
    "        print(\"Move disk 1 from source\", source, \"to destination\", destination)\n",
    "        return\n",
    "    tower_of_hanoi(num_disks - 1, source, destination, auxiliary)\n",
    "    print(\"Move disk\", num_disks, \"from source\", source, \"to destination\", destination)\n",
    "    tower_of_hanoi(num_disks - 1, auxiliary, source, destination)\n",
    " \n",
    "# Driver Code\n",
    "num_disks = 4\n",
    "tower_of_hanoi(num_disks, 'A', 'B', 'C')"
   ]
  },
  {
   "cell_type": "code",
   "execution_count": 9,
   "id": "cc51b63d",
   "metadata": {},
   "outputs": [
    {
     "name": "stdout",
     "output_type": "stream",
     "text": [
      "Object `expression` not found.\n",
      "Prefix : *-A/BC-/AKL\n"
     ]
    }
   ],
   "source": [
    "Q6. Read about infix, prefix, and postfix expressions. Write a program to convert postfix to prefix expression?\n",
    "\n",
    "def postfix_to_prefix(postfix_exp): \n",
    "  \n",
    "    stack = [] \n",
    "    for char in postfix_exp:  \n",
    "        if char.isalpha(): \n",
    "            stack.append(char)  \n",
    "        else: \n",
    "            A = stack.pop()  \n",
    "            B = stack.pop()  \n",
    "            stack.append(char + B + A) \n",
    "    return stack[0]  \n",
    "  \n",
    "# Driver code  \n",
    "if __name__ == \"__main__\": \n",
    "    postfix_exp = \"ABC/-AK/L-*\"\n",
    "    print(\"Prefix :\", postfix_to_prefix(postfix_exp))"
   ]
  },
  {
   "cell_type": "code",
   "execution_count": 11,
   "id": "05888bea",
   "metadata": {},
   "outputs": [
    {
     "name": "stdout",
     "output_type": "stream",
     "text": [
      "Object `expression` not found.\n",
      "((A-(B/C))*((A/K)-L))\n"
     ]
    }
   ],
   "source": [
    "Q7. Write a program to convert prefix expression to infix expression?\n",
    "\n",
    "#Function to convert prefix to infix\n",
    "def prefix_to_infix(expression):\n",
    "    stack = []\n",
    "    for char in expression[::-1]:\n",
    "        if char.isalpha():\n",
    "            stack.append(char)\n",
    "        else:\n",
    "            a = stack.pop()\n",
    "            b = stack.pop()\n",
    "            stack.append('(' + a + char + b + ')')\n",
    "    return stack.pop()\n",
    "\n",
    "#Driver code\n",
    "prefix = '*-A/BC-/AKL'\n",
    "infix = prefix_to_infix(prefix)\n",
    "print(infix)"
   ]
  },
  {
   "cell_type": "code",
   "execution_count": 12,
   "id": "4dd82b41",
   "metadata": {},
   "outputs": [
    {
     "name": "stdout",
     "output_type": "stream",
     "text": [
      "Object `snippet` not found.\n",
      "Code is incorrect\n"
     ]
    }
   ],
   "source": [
    "Q8. Write a program to check if all the brackets are closed in a given code snippet?\n",
    "\n",
    "def check_brackets(code): \n",
    "    stack = [] \n",
    "    for char in code: \n",
    "        if char in [\"(\",\"{\",\"[\"]: \n",
    "            stack.append(char) \n",
    "        elif char in [\")\",\"}\",\"]\"]: \n",
    "            if not stack: \n",
    "                return False \n",
    "            current_char = stack.pop() \n",
    "            if (current_char == '(' and char != ')') or (current_char == '{' and char != '}') or (current_char == '[' and char != ']'): \n",
    "                return False \n",
    "    if stack: \n",
    "        return False \n",
    "    return True\n",
    "\n",
    "# Driver Code \n",
    "code = \"(a+b))\"\n",
    "if check_brackets(code): \n",
    "    print(\"Code is correct\") \n",
    "else: \n",
    "    print(\"Code is incorrect\")"
   ]
  },
  {
   "cell_type": "code",
   "execution_count": 13,
   "id": "6f6b620d",
   "metadata": {},
   "outputs": [
    {
     "name": "stdout",
     "output_type": "stream",
     "text": [
      "Object `stack` not found.\n",
      "Reversed Stack: [5, 4, 3, 2, 1]\n"
     ]
    }
   ],
   "source": [
    "Q9. Write a program to reverse a stack?\n",
    "\n",
    "def reverseStack(stack): \n",
    "\tif len(stack) == 0: \n",
    "\t\treturn\n",
    "\t\n",
    "\ttemp = stack.pop() \n",
    "\treverseStack(stack) \n",
    "\tinsertAtBottom(stack, temp) \n",
    "    \n",
    "def insertAtBottom(stack, item): \n",
    "\tif len(stack) == 0: \n",
    "\t\tstack.append(item) \n",
    "\telse: \n",
    "\t\ttemp = stack.pop() \n",
    "\t\tinsertAtBottom(stack, item) \n",
    "\t\tstack.append(temp) \n",
    "\n",
    "# Driver function \n",
    "stack = [1, 2, 3, 4, 5] \n",
    "reverseStack(stack) \n",
    "print('Reversed Stack:', stack)"
   ]
  },
  {
   "cell_type": "code",
   "execution_count": 14,
   "id": "35261fc5",
   "metadata": {},
   "outputs": [
    {
     "name": "stdout",
     "output_type": "stream",
     "text": [
      "The smallest number is: 10\n"
     ]
    }
   ],
   "source": [
    "Q10. Write a program to find the smallest number using a stack?\n",
    "\n",
    "\n",
    "class Stack:\n",
    "    def __init__(self):\n",
    "        self.items = []\n",
    " \n",
    "    def isEmpty(self):\n",
    "        return self.items == []\n",
    " \n",
    "    def push(self, item):\n",
    "        self.items.append(item)\n",
    " \n",
    "    def pop(self):\n",
    "        return self.items.pop()\n",
    " \n",
    "    def peek(self):\n",
    "        return self.items[len(self.items)-1]\n",
    " \n",
    "    def size(self):\n",
    "        return len(self.items)\n",
    "\n",
    "# Create a Stack\n",
    "stack = Stack()\n",
    "\n",
    "# Add items to stack\n",
    "stack.push(10)\n",
    "stack.push(20)\n",
    "stack.push(30)\n",
    "stack.push(40)\n",
    "stack.push(50)\n",
    "\n",
    "# Find the smallest number\n",
    "min_num = stack.peek()\n",
    "while not stack.isEmpty():\n",
    "    num = stack.pop()\n",
    "    if num < min_num:\n",
    "        min_num = num\n",
    "print(\"The smallest number is:\", min_num)"
   ]
  },
  {
   "cell_type": "code",
   "execution_count": null,
   "id": "9edafbb6",
   "metadata": {},
   "outputs": [],
   "source": []
  }
 ],
 "metadata": {
  "kernelspec": {
   "display_name": "Python 3 (ipykernel)",
   "language": "python",
   "name": "python3"
  },
  "language_info": {
   "codemirror_mode": {
    "name": "ipython",
    "version": 3
   },
   "file_extension": ".py",
   "mimetype": "text/x-python",
   "name": "python",
   "nbconvert_exporter": "python",
   "pygments_lexer": "ipython3",
   "version": "3.9.12"
  }
 },
 "nbformat": 4,
 "nbformat_minor": 5
}
